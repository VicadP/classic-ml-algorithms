{
 "cells": [
  {
   "cell_type": "code",
   "execution_count": 1,
   "id": "e1c144bd",
   "metadata": {},
   "outputs": [],
   "source": [
    "from utils.evaluator import ModelEvaluator\n",
    "from utils.metrics import *\n",
    "from sklearn.datasets import make_regression\n",
    "from sklearn.datasets import make_classification\n",
    "\n",
    "import warnings\n",
    "warnings.filterwarnings(action=\"ignore\")"
   ]
  },
  {
   "cell_type": "markdown",
   "id": "f6361d4c",
   "metadata": {},
   "source": [
    "## Linear and Logistic Regression"
   ]
  },
  {
   "cell_type": "code",
   "execution_count": 2,
   "id": "7f493a3b",
   "metadata": {},
   "outputs": [],
   "source": [
    "from algorithms.linear_and_logistic_regressions import CustomLinearRegression\n",
    "from algorithms.linear_and_logistic_regressions import CustomLogisticRegression\n",
    "from sklearn.linear_model import LinearRegression\n",
    "from sklearn.linear_model import Lasso\n",
    "from sklearn.linear_model import Ridge\n",
    "from sklearn.linear_model import LogisticRegression"
   ]
  },
  {
   "cell_type": "code",
   "execution_count": 3,
   "id": "8b943fcb",
   "metadata": {},
   "outputs": [
    {
     "name": "stderr",
     "output_type": "stream",
     "text": [
      "2025-04-17 17:47:12 PM - model - INFO - Алгоритм сошелся. Кол-во итераций: 15\n",
      "2025-04-17 17:47:13 PM - model - INFO - Алгоритм сошелся. Кол-во итераций: 171\n",
      "2025-04-17 17:47:13 PM - model - INFO - Алгоритм сошелся. Кол-во итераций: 28\n"
     ]
    },
    {
     "data": {
      "text/html": [
       "<div>\n",
       "<style scoped>\n",
       "    .dataframe tbody tr th:only-of-type {\n",
       "        vertical-align: middle;\n",
       "    }\n",
       "\n",
       "    .dataframe tbody tr th {\n",
       "        vertical-align: top;\n",
       "    }\n",
       "\n",
       "    .dataframe thead th {\n",
       "        text-align: right;\n",
       "    }\n",
       "</style>\n",
       "<table border=\"1\" class=\"dataframe\">\n",
       "  <thead>\n",
       "    <tr style=\"text-align: right;\">\n",
       "      <th></th>\n",
       "      <th>MSE</th>\n",
       "      <th>R2</th>\n",
       "    </tr>\n",
       "    <tr>\n",
       "      <th>model</th>\n",
       "      <th></th>\n",
       "      <th></th>\n",
       "    </tr>\n",
       "  </thead>\n",
       "  <tbody>\n",
       "    <tr>\n",
       "      <th>Custom OLS</th>\n",
       "      <td>2462.036191</td>\n",
       "      <td>0.824928</td>\n",
       "    </tr>\n",
       "    <tr>\n",
       "      <th>Sklearn OLS</th>\n",
       "      <td>2462.036489</td>\n",
       "      <td>0.824928</td>\n",
       "    </tr>\n",
       "    <tr>\n",
       "      <th>Custom Lasso</th>\n",
       "      <td>2459.439009</td>\n",
       "      <td>0.825113</td>\n",
       "    </tr>\n",
       "    <tr>\n",
       "      <th>Sklearn Lasso</th>\n",
       "      <td>2459.436680</td>\n",
       "      <td>0.825113</td>\n",
       "    </tr>\n",
       "    <tr>\n",
       "      <th>Custom Ridge</th>\n",
       "      <td>2461.521346</td>\n",
       "      <td>0.824965</td>\n",
       "    </tr>\n",
       "    <tr>\n",
       "      <th>Sklearn Ridge</th>\n",
       "      <td>2461.526869</td>\n",
       "      <td>0.824964</td>\n",
       "    </tr>\n",
       "  </tbody>\n",
       "</table>\n",
       "</div>"
      ],
      "text/plain": [
       "                       MSE        R2\n",
       "model                               \n",
       "Custom OLS     2462.036191  0.824928\n",
       "Sklearn OLS    2462.036489  0.824928\n",
       "Custom Lasso   2459.439009  0.825113\n",
       "Sklearn Lasso  2459.436680  0.825113\n",
       "Custom Ridge   2461.521346  0.824965\n",
       "Sklearn Ridge  2461.526869  0.824964"
      ]
     },
     "metadata": {},
     "output_type": "display_data"
    }
   ],
   "source": [
    "def main_regression():\n",
    "    metrics = [MSE(), R2()]\n",
    "    X, y = make_regression(n_samples=10_000, n_features=10, n_informative=4, noise=50, random_state=42, coef=False)\n",
    "    eval = ModelEvaluator(X, y)\n",
    "    eval.evaluate_model(CustomLinearRegression(learning_rate=lambda x: 0.8 * (0.95**x)), model_name=\"Custom OLS\", metrics=metrics)\n",
    "    eval.evaluate_model(LinearRegression(), model_name=\"Sklearn OLS\", metrics=metrics)\n",
    "    eval.evaluate_model(CustomLinearRegression(learning_rate=lambda x: 0.8 * (0.95**x), penalty=\"L1\", alpha=0.5), model_name=\"Custom Lasso\", metrics=metrics)\n",
    "    eval.evaluate_model(Lasso(alpha=0.5), model_name=\"Sklearn Lasso\", metrics=metrics)\n",
    "    eval.evaluate_model(CustomLinearRegression(learning_rate=lambda x: 0.8 * (0.90**x), penalty=\"L2\", alpha=100), model_name=\"Custom Ridge\", metrics=metrics)\n",
    "    eval.evaluate_model(Ridge(alpha=100, solver=\"sag\", random_state=42), model_name=\"Sklearn Ridge\", metrics=metrics)\n",
    "    display(eval.get_result())\n",
    "\n",
    "if  __name__ == \"__main__\":\n",
    "    main_regression()"
   ]
  },
  {
   "cell_type": "code",
   "execution_count": 4,
   "id": "b359e885",
   "metadata": {},
   "outputs": [
    {
     "name": "stderr",
     "output_type": "stream",
     "text": [
      "2025-04-17 17:47:13 PM - model - INFO - Алгоритм сошелся. Кол-во итераций: 95\n"
     ]
    },
    {
     "data": {
      "text/html": [
       "<div>\n",
       "<style scoped>\n",
       "    .dataframe tbody tr th:only-of-type {\n",
       "        vertical-align: middle;\n",
       "    }\n",
       "\n",
       "    .dataframe tbody tr th {\n",
       "        vertical-align: top;\n",
       "    }\n",
       "\n",
       "    .dataframe thead th {\n",
       "        text-align: right;\n",
       "    }\n",
       "</style>\n",
       "<table border=\"1\" class=\"dataframe\">\n",
       "  <thead>\n",
       "    <tr style=\"text-align: right;\">\n",
       "      <th></th>\n",
       "      <th>Accuracy</th>\n",
       "      <th>ROC AUC</th>\n",
       "    </tr>\n",
       "    <tr>\n",
       "      <th>model</th>\n",
       "      <th></th>\n",
       "      <th></th>\n",
       "    </tr>\n",
       "  </thead>\n",
       "  <tbody>\n",
       "    <tr>\n",
       "      <th>Custom LogReg</th>\n",
       "      <td>0.732333</td>\n",
       "      <td>0.813961</td>\n",
       "    </tr>\n",
       "    <tr>\n",
       "      <th>Sklearn LogReg</th>\n",
       "      <td>0.732667</td>\n",
       "      <td>0.813962</td>\n",
       "    </tr>\n",
       "  </tbody>\n",
       "</table>\n",
       "</div>"
      ],
      "text/plain": [
       "                Accuracy   ROC AUC\n",
       "model                             \n",
       "Custom LogReg   0.732333  0.813961\n",
       "Sklearn LogReg  0.732667  0.813962"
      ]
     },
     "metadata": {},
     "output_type": "display_data"
    }
   ],
   "source": [
    "def main_classification():\n",
    "    metrics = [Accuracy(), ROCAUC()]\n",
    "    predict_proba = True\n",
    "    X, y = make_classification(n_samples=10_000, n_features=10, n_informative=4, n_redundant=0, n_classes=2, random_state=42, flip_y=0.1)\n",
    "    eval = ModelEvaluator(X, y)\n",
    "    eval.evaluate_model(CustomLogisticRegression(learning_rate=1), model_name=\"Custom LogReg\", metrics=metrics, predict_proba=predict_proba)\n",
    "    eval.evaluate_model(LogisticRegression(penalty=None, solver=\"sag\", random_state=42), model_name=\"Sklearn LogReg\", metrics=metrics, predict_proba=predict_proba)\n",
    "    display(eval.get_result())\n",
    "\n",
    "if  __name__ == \"__main__\":\n",
    "    main_classification()"
   ]
  },
  {
   "cell_type": "markdown",
   "id": "8d25e812",
   "metadata": {},
   "source": [
    "## Linear SVM"
   ]
  },
  {
   "cell_type": "code",
   "execution_count": 5,
   "id": "9885444f",
   "metadata": {},
   "outputs": [],
   "source": [
    "from algorithms.linear_support_vector_machine import CustomSVMClassifier\n",
    "from sklearn.linear_model import SGDClassifier"
   ]
  },
  {
   "cell_type": "code",
   "execution_count": 10,
   "id": "fae67cdf",
   "metadata": {},
   "outputs": [
    {
     "name": "stderr",
     "output_type": "stream",
     "text": [
      "2025-04-17 17:47:45 PM - model - INFO - Алгоритм сошелся. Кол-во итераций: 21\n"
     ]
    },
    {
     "data": {
      "text/html": [
       "<div>\n",
       "<style scoped>\n",
       "    .dataframe tbody tr th:only-of-type {\n",
       "        vertical-align: middle;\n",
       "    }\n",
       "\n",
       "    .dataframe tbody tr th {\n",
       "        vertical-align: top;\n",
       "    }\n",
       "\n",
       "    .dataframe thead th {\n",
       "        text-align: right;\n",
       "    }\n",
       "</style>\n",
       "<table border=\"1\" class=\"dataframe\">\n",
       "  <thead>\n",
       "    <tr style=\"text-align: right;\">\n",
       "      <th></th>\n",
       "      <th>Accuracy</th>\n",
       "    </tr>\n",
       "    <tr>\n",
       "      <th>model</th>\n",
       "      <th></th>\n",
       "    </tr>\n",
       "  </thead>\n",
       "  <tbody>\n",
       "    <tr>\n",
       "      <th>Custom SVC</th>\n",
       "      <td>0.706000</td>\n",
       "    </tr>\n",
       "    <tr>\n",
       "      <th>Sklearn SVC</th>\n",
       "      <td>0.698667</td>\n",
       "    </tr>\n",
       "  </tbody>\n",
       "</table>\n",
       "</div>"
      ],
      "text/plain": [
       "             Accuracy\n",
       "model                \n",
       "Custom SVC   0.706000\n",
       "Sklearn SVC  0.698667"
      ]
     },
     "metadata": {},
     "output_type": "display_data"
    }
   ],
   "source": [
    "def main_classification():\n",
    "    metrics = [Accuracy(), ROCAUC()]\n",
    "    predict_proba = True\n",
    "    X, y = make_classification(n_samples=10_000, n_features=10, n_informative=4, n_redundant=0, n_classes=2, random_state=42, flip_y=0.2)\n",
    "    eval = ModelEvaluator(X, y)\n",
    "    eval.evaluate_model(CustomSVMClassifier(learning_rate=0.001, alpha=1, verbose=False), model_name='Custom SVC', metrics=[Accuracy()])\n",
    "    eval.evaluate_model(SGDClassifier(alpha=1, learning_rate=\"adaptive\", eta0=0.001), model_name='Sklearn SVC', metrics=[Accuracy()])\n",
    "    display(eval.get_result())\n",
    "\n",
    "if  __name__ == \"__main__\":\n",
    "    main_classification()"
   ]
  },
  {
   "cell_type": "markdown",
   "id": "43a79bb0",
   "metadata": {},
   "source": [
    "## KNN"
   ]
  },
  {
   "cell_type": "code",
   "execution_count": 3,
   "id": "52a3bedb",
   "metadata": {},
   "outputs": [],
   "source": [
    "from algorithms.k_nearest_neighbors import CustomKNNRegressor\n",
    "from algorithms.k_nearest_neighbors import CustomKNNClassifiers\n",
    "from sklearn.neighbors import KNeighborsRegressor\n",
    "from sklearn.neighbors import KNeighborsClassifier"
   ]
  },
  {
   "cell_type": "code",
   "execution_count": 9,
   "id": "9e1c5539",
   "metadata": {},
   "outputs": [
    {
     "data": {
      "text/html": [
       "<div>\n",
       "<style scoped>\n",
       "    .dataframe tbody tr th:only-of-type {\n",
       "        vertical-align: middle;\n",
       "    }\n",
       "\n",
       "    .dataframe tbody tr th {\n",
       "        vertical-align: top;\n",
       "    }\n",
       "\n",
       "    .dataframe thead th {\n",
       "        text-align: right;\n",
       "    }\n",
       "</style>\n",
       "<table border=\"1\" class=\"dataframe\">\n",
       "  <thead>\n",
       "    <tr style=\"text-align: right;\">\n",
       "      <th></th>\n",
       "      <th>MSE</th>\n",
       "      <th>R2</th>\n",
       "    </tr>\n",
       "    <tr>\n",
       "      <th>model</th>\n",
       "      <th></th>\n",
       "      <th></th>\n",
       "    </tr>\n",
       "  </thead>\n",
       "  <tbody>\n",
       "    <tr>\n",
       "      <th>Custom KNN uniform</th>\n",
       "      <td>4250.647848</td>\n",
       "      <td>0.697742</td>\n",
       "    </tr>\n",
       "    <tr>\n",
       "      <th>Sklearn KNN uniform</th>\n",
       "      <td>4250.647848</td>\n",
       "      <td>0.697742</td>\n",
       "    </tr>\n",
       "    <tr>\n",
       "      <th>Custom KNN distance</th>\n",
       "      <td>3868.797334</td>\n",
       "      <td>0.724895</td>\n",
       "    </tr>\n",
       "    <tr>\n",
       "      <th>Sklearn KNN distance</th>\n",
       "      <td>3909.937129</td>\n",
       "      <td>0.721970</td>\n",
       "    </tr>\n",
       "  </tbody>\n",
       "</table>\n",
       "</div>"
      ],
      "text/plain": [
       "                              MSE        R2\n",
       "model                                      \n",
       "Custom KNN uniform    4250.647848  0.697742\n",
       "Sklearn KNN uniform   4250.647848  0.697742\n",
       "Custom KNN distance   3868.797334  0.724895\n",
       "Sklearn KNN distance  3909.937129  0.721970"
      ]
     },
     "metadata": {},
     "output_type": "display_data"
    }
   ],
   "source": [
    "def main_regression():\n",
    "    metrics=[MSE(), R2()]\n",
    "    X, y = make_regression(n_samples=10_000, n_features=10, n_informative=4, noise=50, random_state=42, coef=False)\n",
    "    eval = ModelEvaluator(X, y)\n",
    "    eval.evaluate_model(CustomKNNRegressor(k=5), model_name=\"Custom KNN uniform\", metrics=metrics)\n",
    "    eval.evaluate_model(KNeighborsRegressor(n_neighbors=5), model_name=\"Sklearn KNN uniform\", metrics=metrics)\n",
    "    eval.evaluate_model(CustomKNNRegressor(k=25, weights='distance'), model_name=\"Custom KNN distance\", metrics=metrics)\n",
    "    eval.evaluate_model(KNeighborsRegressor(n_neighbors=25, weights='distance'), model_name=\"Sklearn KNN distance\", metrics=metrics)\n",
    "    display(eval.get_result())\n",
    "\n",
    "if  __name__ == \"__main__\":\n",
    "    main_regression()"
   ]
  },
  {
   "cell_type": "code",
   "execution_count": null,
   "id": "c384c8ad",
   "metadata": {},
   "outputs": [
    {
     "data": {
      "text/html": [
       "<div>\n",
       "<style scoped>\n",
       "    .dataframe tbody tr th:only-of-type {\n",
       "        vertical-align: middle;\n",
       "    }\n",
       "\n",
       "    .dataframe tbody tr th {\n",
       "        vertical-align: top;\n",
       "    }\n",
       "\n",
       "    .dataframe thead th {\n",
       "        text-align: right;\n",
       "    }\n",
       "</style>\n",
       "<table border=\"1\" class=\"dataframe\">\n",
       "  <thead>\n",
       "    <tr style=\"text-align: right;\">\n",
       "      <th></th>\n",
       "      <th>Accuracy</th>\n",
       "      <th>ROC AUC</th>\n",
       "    </tr>\n",
       "    <tr>\n",
       "      <th>model</th>\n",
       "      <th></th>\n",
       "      <th></th>\n",
       "    </tr>\n",
       "  </thead>\n",
       "  <tbody>\n",
       "    <tr>\n",
       "      <th>My KNN uniform</th>\n",
       "      <td>0.789333</td>\n",
       "      <td>0.836363</td>\n",
       "    </tr>\n",
       "    <tr>\n",
       "      <th>Sklearn KNN uniform</th>\n",
       "      <td>0.789333</td>\n",
       "      <td>0.836363</td>\n",
       "    </tr>\n",
       "    <tr>\n",
       "      <th>My KNN distance</th>\n",
       "      <td>0.813667</td>\n",
       "      <td>0.868862</td>\n",
       "    </tr>\n",
       "    <tr>\n",
       "      <th>Sklearn KNN distance</th>\n",
       "      <td>0.812000</td>\n",
       "      <td>0.868316</td>\n",
       "    </tr>\n",
       "  </tbody>\n",
       "</table>\n",
       "</div>"
      ],
      "text/plain": [
       "                      Accuracy   ROC AUC\n",
       "model                                   \n",
       "My KNN uniform        0.789333  0.836363\n",
       "Sklearn KNN uniform   0.789333  0.836363\n",
       "My KNN distance       0.813667  0.868862\n",
       "Sklearn KNN distance  0.812000  0.868316"
      ]
     },
     "metadata": {},
     "output_type": "display_data"
    }
   ],
   "source": [
    "def main_classification():\n",
    "    metrics=[Accuracy(), ROCAUC()]\n",
    "    predict_proba = True\n",
    "    X, y = make_classification(n_samples=10_000, n_features=10, n_informative=4, n_redundant=0, n_classes=2, random_state=42, flip_y=0.2)\n",
    "    eval = ModelEvaluator(X, y)\n",
    "    eval.evaluate_model(CustomKNNClassifiers(k=5), model_name=\"Custom KNN uniform\", metrics=metrics, predict_proba=predict_proba)\n",
    "    eval.evaluate_model(KNeighborsClassifier(n_neighbors=5), model_name=\"Sklearn KNN uniform\", metrics=metrics, predict_proba=predict_proba)\n",
    "    eval.evaluate_model(CustomKNNClassifiers(k=20, weights='distance'), model_name=\"Custom KNN distance\", metrics=metrics, predict_proba=predict_proba)\n",
    "    eval.evaluate_model(KNeighborsClassifier(n_neighbors=20, weights='distance'), model_name=\"Sklearn KNN distance\", metrics=metrics, predict_proba=predict_proba)\n",
    "    display(eval.get_result())\n",
    "\n",
    "if  __name__ == \"__main__\":\n",
    "    main_classification()"
   ]
  },
  {
   "cell_type": "markdown",
   "id": "6a8c8969",
   "metadata": {},
   "source": [
    "## Random Forest"
   ]
  },
  {
   "cell_type": "code",
   "execution_count": 12,
   "id": "9d9ed85f",
   "metadata": {},
   "outputs": [],
   "source": [
    "from algorithms.random_forest import CustomRandomForestRegressor\n",
    "from algorithms.random_forest import CustomRandomForestClassifier\n",
    "from sklearn.ensemble import RandomForestRegressor\n",
    "from sklearn.ensemble import RandomForestClassifier"
   ]
  },
  {
   "cell_type": "code",
   "execution_count": 20,
   "id": "d82e7475",
   "metadata": {},
   "outputs": [
    {
     "data": {
      "text/html": [
       "<div>\n",
       "<style scoped>\n",
       "    .dataframe tbody tr th:only-of-type {\n",
       "        vertical-align: middle;\n",
       "    }\n",
       "\n",
       "    .dataframe tbody tr th {\n",
       "        vertical-align: top;\n",
       "    }\n",
       "\n",
       "    .dataframe thead th {\n",
       "        text-align: right;\n",
       "    }\n",
       "</style>\n",
       "<table border=\"1\" class=\"dataframe\">\n",
       "  <thead>\n",
       "    <tr style=\"text-align: right;\">\n",
       "      <th></th>\n",
       "      <th>MSE</th>\n",
       "      <th>R2</th>\n",
       "    </tr>\n",
       "    <tr>\n",
       "      <th>model</th>\n",
       "      <th></th>\n",
       "      <th></th>\n",
       "    </tr>\n",
       "  </thead>\n",
       "  <tbody>\n",
       "    <tr>\n",
       "      <th>Custom RF</th>\n",
       "      <td>2870.074095</td>\n",
       "      <td>0.795913</td>\n",
       "    </tr>\n",
       "    <tr>\n",
       "      <th>Sklearn RF</th>\n",
       "      <td>2897.756595</td>\n",
       "      <td>0.793944</td>\n",
       "    </tr>\n",
       "  </tbody>\n",
       "</table>\n",
       "</div>"
      ],
      "text/plain": [
       "                    MSE        R2\n",
       "model                            \n",
       "Custom RF   2870.074095  0.795913\n",
       "Sklearn RF  2897.756595  0.793944"
      ]
     },
     "metadata": {},
     "output_type": "display_data"
    }
   ],
   "source": [
    "def main_regression():\n",
    "    metrics = [MSE(), R2()]\n",
    "    X, y = make_regression(n_samples=10_000, n_features=10, n_informative=4, noise=50, random_state=42, coef=False)\n",
    "    eval = ModelEvaluator(X, y)\n",
    "    eval.evaluate_model(CustomRandomForestRegressor(criterion=\"squared_error\"), model_name=\"Custom RF\", metrics=metrics)\n",
    "    eval.evaluate_model(RandomForestRegressor(max_features=\"sqrt\"), model_name=\"Sklearn RF\", metrics=metrics)\n",
    "    display(eval.get_result())\n",
    "\n",
    "if  __name__ == \"__main__\":\n",
    "    main_regression()"
   ]
  },
  {
   "cell_type": "code",
   "execution_count": 23,
   "id": "022b94ea",
   "metadata": {},
   "outputs": [
    {
     "data": {
      "text/html": [
       "<div>\n",
       "<style scoped>\n",
       "    .dataframe tbody tr th:only-of-type {\n",
       "        vertical-align: middle;\n",
       "    }\n",
       "\n",
       "    .dataframe tbody tr th {\n",
       "        vertical-align: top;\n",
       "    }\n",
       "\n",
       "    .dataframe thead th {\n",
       "        text-align: right;\n",
       "    }\n",
       "</style>\n",
       "<table border=\"1\" class=\"dataframe\">\n",
       "  <thead>\n",
       "    <tr style=\"text-align: right;\">\n",
       "      <th></th>\n",
       "      <th>Accuracy</th>\n",
       "      <th>ROC AUC</th>\n",
       "    </tr>\n",
       "    <tr>\n",
       "      <th>model</th>\n",
       "      <th></th>\n",
       "      <th></th>\n",
       "    </tr>\n",
       "  </thead>\n",
       "  <tbody>\n",
       "    <tr>\n",
       "      <th>Custom RF</th>\n",
       "      <td>0.835667</td>\n",
       "      <td>0.879501</td>\n",
       "    </tr>\n",
       "    <tr>\n",
       "      <th>Sklearn RF</th>\n",
       "      <td>0.835667</td>\n",
       "      <td>0.879591</td>\n",
       "    </tr>\n",
       "  </tbody>\n",
       "</table>\n",
       "</div>"
      ],
      "text/plain": [
       "            Accuracy   ROC AUC\n",
       "model                         \n",
       "Custom RF   0.835667  0.879501\n",
       "Sklearn RF  0.835667  0.879591"
      ]
     },
     "metadata": {},
     "output_type": "display_data"
    }
   ],
   "source": [
    "def main_classification():\n",
    "    metrics=[Accuracy(), ROCAUC()]\n",
    "    predict_proba = True\n",
    "    X, y = make_classification(n_samples=10_000, n_features=10, n_informative=4, n_redundant=0, n_classes=2, random_state=42, flip_y=0.2)\n",
    "    eval = ModelEvaluator(X, y)\n",
    "    eval.evaluate_model(CustomRandomForestClassifier(criterion=\"gini\"), model_name=\"Custom RF\", metrics=metrics, predict_proba=predict_proba)\n",
    "    eval.evaluate_model(RandomForestClassifier(max_features=\"sqrt\"), model_name=\"Sklearn RF\", metrics=metrics, predict_proba=predict_proba)\n",
    "    display(eval.get_result())\n",
    "\n",
    "if  __name__ == \"__main__\":\n",
    "    main_classification()"
   ]
  },
  {
   "cell_type": "markdown",
   "id": "d1fecac1",
   "metadata": {},
   "source": [
    "## Gradient Boosting"
   ]
  },
  {
   "cell_type": "code",
   "execution_count": 3,
   "id": "cfaf9a07",
   "metadata": {},
   "outputs": [],
   "source": [
    "from algorithms.gradient_boosting import CustomGradientBoostingRegressor\n",
    "from algorithms.gradient_boosting import CustomGradientBoostingClassifier\n",
    "from sklearn.ensemble import GradientBoostingRegressor\n",
    "from sklearn.ensemble import GradientBoostingClassifier"
   ]
  },
  {
   "cell_type": "code",
   "execution_count": 26,
   "id": "435c6d24",
   "metadata": {},
   "outputs": [
    {
     "data": {
      "text/html": [
       "<div>\n",
       "<style scoped>\n",
       "    .dataframe tbody tr th:only-of-type {\n",
       "        vertical-align: middle;\n",
       "    }\n",
       "\n",
       "    .dataframe tbody tr th {\n",
       "        vertical-align: top;\n",
       "    }\n",
       "\n",
       "    .dataframe thead th {\n",
       "        text-align: right;\n",
       "    }\n",
       "</style>\n",
       "<table border=\"1\" class=\"dataframe\">\n",
       "  <thead>\n",
       "    <tr style=\"text-align: right;\">\n",
       "      <th></th>\n",
       "      <th>MSE</th>\n",
       "      <th>R2</th>\n",
       "    </tr>\n",
       "    <tr>\n",
       "      <th>model</th>\n",
       "      <th></th>\n",
       "      <th></th>\n",
       "    </tr>\n",
       "  </thead>\n",
       "  <tbody>\n",
       "    <tr>\n",
       "      <th>Custom GBM</th>\n",
       "      <td>2584.427222</td>\n",
       "      <td>0.816225</td>\n",
       "    </tr>\n",
       "    <tr>\n",
       "      <th>Sklearn GBM</th>\n",
       "      <td>2584.550416</td>\n",
       "      <td>0.816216</td>\n",
       "    </tr>\n",
       "  </tbody>\n",
       "</table>\n",
       "</div>"
      ],
      "text/plain": [
       "                     MSE        R2\n",
       "model                             \n",
       "Custom GBM   2584.427222  0.816225\n",
       "Sklearn GBM  2584.550416  0.816216"
      ]
     },
     "metadata": {},
     "output_type": "display_data"
    }
   ],
   "source": [
    "def main_regression():\n",
    "    metrics = [MSE(), R2()]\n",
    "    X, y = make_regression(n_samples=10_000, n_features=10, n_informative=4, noise=50, random_state=42, coef=False)\n",
    "    eval = ModelEvaluator(X, y)\n",
    "    eval.evaluate_model(CustomGradientBoostingRegressor(criterion=\"squared_error\"), model_name=\"Custom GBM\", metrics=metrics)\n",
    "    eval.evaluate_model(GradientBoostingRegressor(criterion=\"squared_error\"), model_name=\"Sklearn GBM\", metrics=metrics)\n",
    "    display(eval.get_result())\n",
    "\n",
    "if  __name__ == \"__main__\":\n",
    "    main_regression()"
   ]
  },
  {
   "cell_type": "code",
   "execution_count": 4,
   "id": "dfa82d89",
   "metadata": {},
   "outputs": [
    {
     "data": {
      "text/html": [
       "<div>\n",
       "<style scoped>\n",
       "    .dataframe tbody tr th:only-of-type {\n",
       "        vertical-align: middle;\n",
       "    }\n",
       "\n",
       "    .dataframe tbody tr th {\n",
       "        vertical-align: top;\n",
       "    }\n",
       "\n",
       "    .dataframe thead th {\n",
       "        text-align: right;\n",
       "    }\n",
       "</style>\n",
       "<table border=\"1\" class=\"dataframe\">\n",
       "  <thead>\n",
       "    <tr style=\"text-align: right;\">\n",
       "      <th></th>\n",
       "      <th>Accuracy</th>\n",
       "      <th>ROC AUC</th>\n",
       "    </tr>\n",
       "    <tr>\n",
       "      <th>model</th>\n",
       "      <th></th>\n",
       "      <th></th>\n",
       "    </tr>\n",
       "  </thead>\n",
       "  <tbody>\n",
       "    <tr>\n",
       "      <th>Custom GBM</th>\n",
       "      <td>0.826667</td>\n",
       "      <td>0.871994</td>\n",
       "    </tr>\n",
       "    <tr>\n",
       "      <th>Sklearn GBM</th>\n",
       "      <td>0.827000</td>\n",
       "      <td>0.871815</td>\n",
       "    </tr>\n",
       "  </tbody>\n",
       "</table>\n",
       "</div>"
      ],
      "text/plain": [
       "             Accuracy   ROC AUC\n",
       "model                          \n",
       "Custom GBM   0.826667  0.871994\n",
       "Sklearn GBM  0.827000  0.871815"
      ]
     },
     "metadata": {},
     "output_type": "display_data"
    }
   ],
   "source": [
    "def main_classification():\n",
    "    metrics=[Accuracy(), ROCAUC()]\n",
    "    predict_proba = True\n",
    "    X, y = make_classification(n_samples=10_000, n_features=10, n_informative=4, n_redundant=0, n_classes=2, random_state=42, flip_y=0.2)\n",
    "    eval = ModelEvaluator(X, y)\n",
    "    eval.evaluate_model(CustomGradientBoostingClassifier(n_estimators=200, criterion=\"squared_error\"), model_name=\"Custom GBM\", metrics=metrics, predict_proba=predict_proba)\n",
    "    eval.evaluate_model(GradientBoostingClassifier(n_estimators=200, criterion=\"squared_error\"), model_name=\"Sklearn GBM\", metrics=metrics, predict_proba=predict_proba)\n",
    "    display(eval.get_result())\n",
    "\n",
    "if  __name__ == \"__main__\":\n",
    "    main_classification()"
   ]
  }
 ],
 "metadata": {
  "kernelspec": {
   "display_name": "ml_exp_env",
   "language": "python",
   "name": "python3"
  },
  "language_info": {
   "codemirror_mode": {
    "name": "ipython",
    "version": 3
   },
   "file_extension": ".py",
   "mimetype": "text/x-python",
   "name": "python",
   "nbconvert_exporter": "python",
   "pygments_lexer": "ipython3",
   "version": "3.11.11"
  }
 },
 "nbformat": 4,
 "nbformat_minor": 5
}
